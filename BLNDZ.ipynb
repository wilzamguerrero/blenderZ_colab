{
  "nbformat": 4,
  "nbformat_minor": 0,
  "metadata": {
    "colab": {
      "provenance": [],
      "gpuType": "T4",
      "authorship_tag": "ABX9TyONaOep4WWM9iPCcMzpBE8I",
      "include_colab_link": true
    },
    "kernelspec": {
      "name": "python3",
      "display_name": "Python 3"
    },
    "language_info": {
      "name": "python"
    },
    "accelerator": "GPU"
  },
  "cells": [
    {
      "cell_type": "markdown",
      "metadata": {
        "id": "view-in-github",
        "colab_type": "text"
      },
      "source": [
        "<a href=\"https://colab.research.google.com/github/wilzamguerrero/blendz_colab/blob/main/BLNDZ.ipynb\" target=\"_parent\"><img src=\"https://colab.research.google.com/assets/colab-badge.svg\" alt=\"Open In Colab\"/></a>"
      ]
    },
    {
      "cell_type": "code",
      "execution_count": null,
      "metadata": {
        "cellView": "form",
        "id": "-L8r7D66aDE4"
      },
      "outputs": [],
      "source": [
        "#@markdown <left><img src='https://github.com/wilzamguerrero/SDZ/blob/main/SDZ_custom/icon/blend1.png?raw=true' height=\"50\" alt=\"netdata\"/></center>\n",
        "from IPython.display import clear_output, display, HTML\n",
        "from IPython.utils import capture\n",
        "import os\n",
        "\n",
        "download_path = \"/content/sample_data\" #@param {type: \"string\"}\n",
        "blender_url = \"https://download.blender.org/release/Blender4.2/blender-4.2.0-linux-x64.tar.xz\" #@param {type: \"string\"}\n",
        "\n",
        "print('\\033[90m' + 'BLENDZ Installing Requirements 1% ✓' + '\\033[0m')\n",
        "with capture.capture_output() as cap:\n",
        "\n",
        "  os.makedirs(download_path, exist_ok=True)\n",
        "  !wget {blender_url} -P {download_path}\n",
        "  os.chdir(download_path)\n",
        "\n",
        "print('\\033[90m' + 'BLENDZ Installing Requirements 30% ✓' + '\\033[0m')\n",
        "with capture.capture_output() as cap:\n",
        "\n",
        "  !tar xf blender-*.tar.xz\n",
        "  os.environ[\"LD_PRELOAD\"] = \"\"\n",
        "  !apt remove libtcmalloc-minimal4\n",
        "  !apt install libtcmalloc-minimal4\n",
        "  os.environ[\"LD_PRELOAD\"] = \"/usr/lib/x86_64-linux-gnu/libtcmalloc_minimal.so.4.3.0\"\n",
        "\n",
        "print('\\033[90m' + 'BLENDZ Installing Requirements 60% ✓' + '\\033[0m')\n",
        "with capture.capture_output() as cap:\n",
        "  !sudo apt-get purge nvidia*\n",
        "  !sudo add-apt-repository ppa:graphics-drivers/ppa -y\n",
        "  !sudo apt-get update\n",
        "  !sudo apt-get install expect -y\n",
        "\n",
        "  expect_script = \"\"\"\n",
        "  spawn sudo apt install nvidia-driver-510 nvidia-dkms-510 -y\n",
        "  expect \"Configuring keyboard-configuration\"\n",
        "  send \"32\\r\"\n",
        "  expect \"Country of origin for the keyboard\"\n",
        "  send \"1\\r\"\n",
        "  expect eof\n",
        "  \"\"\"\n",
        "  with open(\"install_nvidia.exp\", \"w\") as script_file:\n",
        "      script_file.write(expect_script)\n",
        "\n",
        "  !expect install_nvidia.exp\n",
        "  os.remove(\"install_nvidia.exp\")\n",
        "\n",
        "  clear_output()\n",
        "print('\\033[38;2;0;243;243m' + 'BLENDZ Installation Complete 100% ✓' + '\\033[0m')\n"
      ]
    },
    {
      "cell_type": "code",
      "source": [
        "#@markdown <left><img src='https://github.com/wilzamguerrero/SDZ/blob/main/SDZ_custom/icon/blend2.png?raw=true' height=\"50\" alt=\"netdata\"/></center>\n",
        "\n",
        "from IPython.display import clear_output, display, HTML\n",
        "blender_path = \"/content/sample_data/blender-4.2.0-linux-x64\"  # @param {type: \"string\"}\n",
        "filename = \"/content/a2.blend\"  # @param {type: \"string\"}\n",
        "engine_option = \"CYCLES CUDA\"  # @param [\"CYCLES CUDA\", \"CYCLES OPTIX\", \"BLENDER_EEVEE_NEXT CUDA\"]\n",
        "\n",
        "start_frame = 105  # @param {type:\"number\"}\n",
        "use_sequence = False  # @param {type:\"boolean\"}\n",
        "end_frame = 107  # @param {type:\"number\"}\n",
        "\n",
        "image_format = \"PNG\"  # @param [\"PNG\", \"JPEG\", \"TIFF\"]\n",
        "\n",
        "output_path = \"/content/sample_data\"  # @param {type: \"string\"}\n",
        "\n",
        "control_samples = True  # @param {type:\"boolean\"}\n",
        "samples = 128  # @param {type:\"number\"}\n",
        "\n",
        "if use_sequence:\n",
        "    frame_option = f\"-s {start_frame} -e {end_frame}\"\n",
        "else:\n",
        "    frame_option = f\"-s {start_frame}\"\n",
        "\n",
        "samples_option = f\"-- --cycles-samples {samples}\" if control_samples else \"\"\n",
        "\n",
        "if engine_option == \"CYCLES CUDA\":\n",
        "    !{blender_path}/blender -P \"gpu.py\" -b {filename} -noaudio -E \"CYCLES\" --debug-all -o \"{output_path}/####\" {frame_option} -a -F \"{image_format}\" -- --cycles-device CUDA {samples_option}\n",
        "elif engine_option == \"BLENDER_EEVEE_NEXT CUDA\":\n",
        "    !{blender_path}/blender -P \"gpu.py\" -b {filename} -noaudio -E \"BLENDER_EEVEE_NEXT\" --debug-all -o \"{output_path}/####\" {frame_option} -a -F \"{image_format}\" -- --BLENDER_EEVEE_NEXT-device CUDA\n",
        "elif engine_option == \"CYCLES OPTIX\":\n",
        "    !{blender_path}/blender -P \"gpu.py\" -b {filename} -noaudio -E \"CYCLES\" --debug-all -o \"{output_path}/####\" {frame_option} -a -F \"{image_format}\" -- --cycles-device OPTIX {samples_option}\n",
        "\n",
        "clear_output()\n",
        "print('\\033[38;2;0;243;243m' + 'BLENDZ Installation Complete 100% ✓' + '\\033[0m')\n"
      ],
      "metadata": {
        "cellView": "form",
        "id": "C_zWsSmFhYQF"
      },
      "execution_count": null,
      "outputs": []
    },
    {
      "cell_type": "code",
      "source": [
        "#@markdown <left><img src='https://github.com/wilzamguerrero/SDZ/blob/main/SDZ_custom/icon/install.png?raw=true' height=\"50\" alt=\"netdata\"/></center>\n",
        "\"\"\"\n",
        "function ClickConnect(){\n",
        "    console.log(\"Working\");\n",
        "    document.querySelector(\"#top-toolbar > colab-connect-button\").shadowRoot.querySelector(\"#connect\").click();\n",
        "}\n",
        "setInterval(ClickConnect,60000)\n",
        "\"\"\""
      ],
      "metadata": {
        "cellView": "form",
        "id": "lfdpzpDlNu0Y"
      },
      "execution_count": null,
      "outputs": []
    },
    {
      "cell_type": "code",
      "source": [
        "#@markdown <left><img src='https://github.com/wilzamguerrero/SDZ/blob/main/SDZ_custom/icon/drive.png?raw=true' height=\"50\" alt=\"netdata\"/></center>\n",
        "\n",
        "from google.colab import drive\n",
        "drive.mount('/content/drive')"
      ],
      "metadata": {
        "cellView": "form",
        "id": "wE5yAQe0M6Pj"
      },
      "execution_count": null,
      "outputs": []
    },
    {
      "cell_type": "code",
      "source": [
        "#@markdown <left><img src='https://github.com/wilzamguerrero/SDZ/blob/main/SDZ_custom/icon/compress.png?raw=true' height=\"50\" alt=\"netdata\"/></center>\n",
        "import os, sys, re\n",
        "\n",
        "folder_path = \"/content/sample_data\" #@param {type:\"string\"}\n",
        "archiving_method = 'zip' #@param [\"zip\", \"7z\" ]\n",
        "\n",
        "output_file_path = re.search(\"^[\\/].+\\/\", folder_path)\n",
        "output_file_path_raw = output_file_path.group(0)\n",
        "delsplit = re.search(\"\\/(?:.(?!\\/))+$\", folder_path)\n",
        "folder_name = re.sub(\"^[\\/]\", \"\", delsplit.group(0))\n",
        "\n",
        "os.environ['inputDir'] = folder_path\n",
        "os.environ['outputPath'] = output_file_path_raw\n",
        "os.environ['folderName'] = folder_name\n",
        "\n",
        "if archiving_method == 'zip':\n",
        "   !7z a -tzip \"$outputPath\"/\"$folderName\".zip \"$inputDir\"\n",
        "\n",
        "if archiving_method == '7z':\n",
        "   !7z a -t7z -m0=lzma -mx=9 -mfb=258 -md=32m -ms=on \"$outputPath\"/\"$folderName\".7z \"$inputDir\""
      ],
      "metadata": {
        "cellView": "form",
        "id": "4G_MNHpoMhYv"
      },
      "execution_count": null,
      "outputs": []
    },
    {
      "cell_type": "code",
      "source": [
        "!/content/sample_data/blender-4.2.0-linux-x64/blender -P 'gpu.py' -b $filename -noaudio -E 'CYCLES' --debug-all -o \"/content/sample_data/####\" -s 105 -e 107 -a -F 'PNG' -- --cycles-device CUDA\n",
        "!/content/sample_data/blender-4.2.0-linux-x64/blender -P 'gpu.py' -b $filename -noaudio -E 'BLENDER_EEVEE_NEXT' --debug-all -o \"/content/sample_data/####\" -s 1 -e 20 -a -F 'PNG' -- --BLENDER_EEVEE_NEXT-device CUDA\n",
        "!/content/sample_data/blender-4.2.0-linux-x64/blender -P 'gpu.py' -b $filename -noaudio -E 'CYCLES' --debug-all -o \"/content/sample_data/####\" -s 108 -e 110 -a -F 'PNG' -- --cycles-device OPTIX"
      ],
      "metadata": {
        "id": "6vJDVLkChjgk"
      },
      "execution_count": null,
      "outputs": []
    },
    {
      "cell_type": "code",
      "source": [
        "#@markdown <left><img src='https://github.com/wilzamguerrero/SDZ/blob/main/SDZ_custom/icon/blend2.png?raw=true' height=\"50\" alt=\"netdata\"/></center>\n",
        "\n",
        "blender_path = \"/content/sample_data/blender-4.2.0-linux-x64\"  # @param {type: \"string\"}\n",
        "filename = \"/content/a2.blend\"  # @param {type: \"string\"}\n",
        "engine_option = \"CYCLES CUDA\"  # @param [\"CYCLES CUDA\", \"CYCLES OPTIX\", \"BLENDER_EEVEE_NEXT CUDA\"]\n",
        "\n",
        "start_frame = 109  # @param {type:\"number\"}\n",
        "use_sequence = False  # @param {type:\"boolean\"}\n",
        "end_frame = 112  # @param {type:\"number\"}\n",
        "\n",
        "image_format = \"PNG\"  # @param [\"PNG\", \"JPEG\", \"TIFF\"]\n",
        "\n",
        "output_path = \"/content/sample_data\"  # @param {type: \"string\"}\n",
        "\n",
        "control_samples = True  # @param {type:\"boolean\"}\n",
        "samples = 10  # @param {type:\"number\"}\n",
        "\n",
        "if use_sequence:\n",
        "    frame_option = f\"-s {start_frame} -e {end_frame}\"\n",
        "else:\n",
        "    frame_option = f\"-s {start_frame}\"\n",
        "\n",
        "# Crear un script Python para configurar los samples\n",
        "script_content = f\"\"\"\n",
        "import bpy\n",
        "bpy.context.scene.cycles.samples = {samples}\n",
        "\"\"\"\n",
        "\n",
        "with open(\"set_samples.py\", \"w\") as script_file:\n",
        "    script_file.write(script_content)\n",
        "\n",
        "# Construir el comando para ejecutar Blender\n",
        "if engine_option == \"CYCLES CUDA\":\n",
        "    if control_samples:\n",
        "        !{blender_path}/blender -b {filename} -P set_samples.py -noaudio -E \"CYCLES\" --debug-all -o \"{output_path}/####\" {frame_option} -a -F \"{image_format}\" -- --cycles-device CUDA\n",
        "    else:\n",
        "        !{blender_path}/blender -b {filename} -noaudio -E \"CYCLES\" --debug-all -o \"{output_path}/####\" {frame_option} -a -F \"{image_format}\" -- --cycles-device CUDA\n",
        "elif engine_option == \"BLENDER_EEVEE_NEXT CUDA\":\n",
        "    !{blender_path}/blender -b {filename} -noaudio -E \"BLENDER_EEVEE_NEXT\" --debug-all -o \"{output_path}/####\" {frame_option} -a -F \"{image_format}\" -- --BLENDER_EEVEE_NEXT-device CUDA\n",
        "elif engine_option == \"CYCLES OPTIX\":\n",
        "    if control_samples:\n",
        "        !{blender_path}/blender -b {filename} -P set_samples.py -noaudio -E \"CYCLES\" --debug-all -o \"{output_path}/####\" {frame_option} -a -F \"{image_format}\" -- --cycles-device OPTIX\n",
        "    else:\n",
        "        !{blender_path}/blender -b {filename} -noaudio -E \"CYCLES\" --debug-all -o \"{output_path}/####\" {frame_option} -a -F \"{image_format}\" -- --cycles-device OPTIX\n",
        "\n",
        "# Eliminar el script temporal\n",
        "os.remove(\"set_samples.py\")\n",
        "\n",
        "clear_output()\n",
        "print('\\033[38;2;0;243;243m' + 'BLENDZ Render Complete 100% ✓' + '\\033[0m')\n"
      ],
      "metadata": {
        "cellView": "form",
        "id": "B56Uszagmxdz"
      },
      "execution_count": null,
      "outputs": []
    },
    {
      "cell_type": "code",
      "source": [
        "#@markdown progrss<left><img src='https://github.com/wilzamguerrero/SDZ/blob/main/SDZ_custom/icon/blend2.png?raw=true' height=\"50\" alt=\"netdata\"/></center>\n",
        "\n",
        "blender_path = \"/content/sample_data/blender-4.2.0-linux-x64\"  # @param {type: \"string\"}\n",
        "filename = \"/content/a2.blend\"  # @param {type: \"string\"}\n",
        "engine_option = \"CYCLES CUDA\"  # @param [\"CYCLES CUDA\", \"CYCLES OPTIX\", \"BLENDER_EEVEE_NEXT CUDA\"]\n",
        "\n",
        "start_frame = 130  # @param {type:\"number\"}\n",
        "use_sequence = True  # @param {type:\"boolean\"}\n",
        "end_frame = 150  # @param {type:\"number\"}\n",
        "\n",
        "image_format = \"PNG\"  # @param [\"PNG\", \"JPEG\", \"TIFF\"]\n",
        "\n",
        "output_path = \"/content/sample_data\"  # @param {type: \"string\"}\n",
        "\n",
        "control_samples = True  # @param {type:\"boolean\"}\n",
        "samples = 10  # @param {type:\"number\"}\n",
        "\n",
        "if use_sequence:\n",
        "    frame_option = f\"-s {start_frame} -e {end_frame}\"\n",
        "else:\n",
        "    frame_option = f\"-s {start_frame} -e {start_frame}\"\n",
        "\n",
        "# Crear un script Python para configurar los samples\n",
        "script_content = f\"\"\"\n",
        "import bpy\n",
        "bpy.context.scene.cycles.samples = {samples}\n",
        "\"\"\"\n",
        "\n",
        "with open(\"set_samples.py\", \"w\") as script_file:\n",
        "    script_file.write(script_content)\n",
        "\n",
        "# Construir el comando para ejecutar Blender\n",
        "if engine_option == \"CYCLES CUDA\":\n",
        "    if control_samples:\n",
        "        !{blender_path}/blender -b {filename} -P set_samples.py -noaudio -E \"CYCLES\" --debug-all -o \"{output_path}/####\" {frame_option} -a -F \"{image_format}\" -- --cycles-device CUDA\n",
        "    else:\n",
        "        !{blender_path}/blender -b {filename} -noaudio -E \"CYCLES\" --debug-all -o \"{output_path}/####\" {frame_option} -a -F \"{image_format}\" -- --cycles-device CUDA\n",
        "elif engine_option == \"BLENDER_EEVEE_NEXT CUDA\":\n",
        "    !{blender_path}/blender -b {filename} -noaudio -E \"BLENDER_EEVEE_NEXT\" --debug-all -o \"{output_path}/####\" {frame_option} -a -F \"{image_format}\" -- --BLENDER_EEVEE_NEXT-device CUDA\n",
        "elif engine_option == \"CYCLES OPTIX\":\n",
        "    if control_samples:\n",
        "        !{blender_path}/blender -b {filename} -P set_samples.py -noaudio -E \"CYCLES\" --debug-all -o \"{output_path}/####\" {frame_option} -a -F \"{image_format}\" -- --cycles-device OPTIX\n",
        "    else:\n",
        "        !{blender_path}/blender -b {filename} -noaudio -E \"CYCLES\" --debug-all -o \"{output_path}/####\" {frame_option} -a -F \"{image_format}\" -- --cycles-device OPTIX\n",
        "\n",
        "# Eliminar el script temporal\n",
        "os.remove(\"set_samples.py\")\n",
        "\n",
        "clear_output()\n",
        "print('\\033[38;2;0;243;243m' + 'BLENDZ Render Complete 100% ✓' + '\\033[0m')\n"
      ],
      "metadata": {
        "id": "fhbFvqiudUMR"
      },
      "execution_count": null,
      "outputs": []
    },
    {
      "cell_type": "code",
      "source": [
        "!apt install blender\n",
        "!apt install libboost-all-dev\n",
        "!apt install libgl1-mesa-dev"
      ],
      "metadata": {
        "id": "DLeVao6SrCnm"
      },
      "execution_count": null,
      "outputs": []
    }
  ]
}