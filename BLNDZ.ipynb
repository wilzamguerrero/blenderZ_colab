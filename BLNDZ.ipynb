{
  "nbformat": 4,
  "nbformat_minor": 0,
  "metadata": {
    "colab": {
      "provenance": [],
      "authorship_tag": "ABX9TyNwHCNp6NlIWFnZ0UTUaHPH",
      "include_colab_link": true
    },
    "kernelspec": {
      "name": "python3",
      "display_name": "Python 3"
    },
    "language_info": {
      "name": "python"
    }
  },
  "cells": [
    {
      "cell_type": "markdown",
      "metadata": {
        "id": "view-in-github",
        "colab_type": "text"
      },
      "source": [
        "<a href=\"https://colab.research.google.com/github/wilzamguerrero/blendz_colab/blob/main/BLNDZ.ipynb\" target=\"_parent\"><img src=\"https://colab.research.google.com/assets/colab-badge.svg\" alt=\"Open In Colab\"/></a>"
      ]
    },
    {
      "cell_type": "code",
      "execution_count": null,
      "metadata": {
        "id": "-L8r7D66aDE4"
      },
      "outputs": [],
      "source": [
        "from IPython.display import clear_output, display, HTML\n",
        "from IPython.utils import capture\n",
        "import os\n",
        "\n",
        "from google.colab import drive\n",
        "drive.mount('/content/drive')\n",
        "\n",
        "download_path = \"/content/sample_data\" #@param {type: \"string\"}\n",
        "blender_url = \"https://download.blender.org/release/Blender4.2/blender-4.2.0-linux-x64.tar.xz\" #@param {type: \"string\"}\n",
        "\n",
        "print('\\033[90m' + 'BLENDZ Installing Requirements 1% ✓' + '\\033[0m')\n",
        "with capture.capture_output() as cap:\n",
        "\n",
        "  os.makedirs(download_path, exist_ok=True)\n",
        "  !wget {blender_url} -P {download_path}\n",
        "  os.chdir(download_path)\n",
        "\n",
        "print('\\033[90m' + 'BLENDZ Installing Requirements 30% ✓' + '\\033[0m')\n",
        "with capture.capture_output() as cap:\n",
        "\n",
        "  !tar xf blender-*.tar.xz\n",
        "  os.environ[\"LD_PRELOAD\"] = \"\"\n",
        "  !apt remove libtcmalloc-minimal4\n",
        "  !apt install libtcmalloc-minimal4\n",
        "  os.environ[\"LD_PRELOAD\"] = \"/usr/lib/x86_64-linux-gnu/libtcmalloc_minimal.so.4.3.0\"\n",
        "\n",
        "print('\\033[90m' + 'BLENDZ Installing Requirements 60% ✓' + '\\033[0m')\n",
        "with capture.capture_output() as cap:\n",
        "  !sudo apt-get purge nvidia*\n",
        "  !sudo add-apt-repository ppa:graphics-drivers/ppa -y\n",
        "  !sudo apt-get update\n",
        "  !sudo apt-get install expect -y\n",
        "\n",
        "  expect_script = \"\"\"\n",
        "  spawn sudo apt install nvidia-driver-510 nvidia-dkms-510 -y\n",
        "  expect \"Configuring keyboard-configuration\"\n",
        "  send \"32\\r\"\n",
        "  expect \"Country of origin for the keyboard\"\n",
        "  send \"1\\r\"\n",
        "  expect eof\n",
        "  \"\"\"\n",
        "  with open(\"install_nvidia.exp\", \"w\") as script_file:\n",
        "      script_file.write(expect_script)\n",
        "\n",
        "  !expect install_nvidia.exp\n",
        "  os.remove(\"install_nvidia.exp\")\n",
        "\n",
        "  clear_output()\n",
        "print('\\033[38;2;0;243;243m' + 'BLENDZ Installation Complete 100% ✓' + '\\033[0m')\n"
      ]
    }
  ]
}